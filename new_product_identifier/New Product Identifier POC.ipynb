{
 "cells": [
  {
   "cell_type": "code",
   "execution_count": 74,
   "id": "2cba4961",
   "metadata": {},
   "outputs": [],
   "source": [
    "import keyring\n",
    "import pandas as pd\n",
    "import datetime\n",
    "import time\n",
    "import pymssql\n",
    "from selenium import webdriver\n",
    "from urllib.request import urlopen\n",
    "from pymongo import MongoClient\n",
    "from bs4 import BeautifulSoup"
   ]
  },
  {
   "cell_type": "code",
   "execution_count": 2,
   "id": "059626ca",
   "metadata": {},
   "outputs": [],
   "source": [
    "# Get dates for query\n",
    "today = datetime.datetime.today()\n",
    "one_week_ago = today - datetime.timedelta(days=7)"
   ]
  },
  {
   "cell_type": "code",
   "execution_count": 3,
   "id": "ea4f5432",
   "metadata": {},
   "outputs": [],
   "source": [
    "# Create connection string\n",
    "user = \"dbadmin\"\n",
    "password = keyring.get_password('docdb_prod_dbadmin', 'dbadmin')\n",
    "host = \"production-documentdb.cluster-cb6kajicuplh.us-east-1.docdb.amazonaws.com\"\n",
    "port = \"27017\"\n",
    "options = \"tls=true&tlsAllowInvalidCertificates=true&replicaSet=rs0&readPreference=secondaryPreferred&retryWrites=false\"\n",
    "cxn_string_template= \"mongodb://{}:{}@{}:{}/?{}\"\n",
    "cxn_string_prod = cxn_string_template.format(user, password, host, port, options)\n"
   ]
  },
  {
   "cell_type": "markdown",
   "id": "4a91df29",
   "metadata": {},
   "source": [
    "# Get past week's new products"
   ]
  },
  {
   "cell_type": "code",
   "execution_count": 4,
   "id": "3812b415",
   "metadata": {},
   "outputs": [],
   "source": [
    "# Get past week's new products\n",
    "client = MongoClient(cxn_string_prod)\n",
    "db = client['product-prod']\n",
    "results_ = list(db.PdwProductCore.find({'createTimestamp': {'$gte': one_week_ago}}, \n",
    "                                       ('productGeneral.cusip', 'productGeneral.isin')))\n",
    "cusips = [i['productGeneral']['cusip'] for i in results_ if 'cusip' in i['productGeneral']]\n",
    "isins = [i['productGeneral']['isin'] for i in results_ if 'isin' in i['productGeneral']]"
   ]
  },
  {
   "cell_type": "markdown",
   "id": "e8a7a22f",
   "metadata": {},
   "source": [
    "# Get BMO products added within first 5 pages"
   ]
  },
  {
   "cell_type": "code",
   "execution_count": 5,
   "id": "33d05200",
   "metadata": {},
   "outputs": [],
   "source": [
    "# # Setup for bmo\n",
    "# bmo_act_dict = {}\n",
    "# chrome_path = r\"/opt/homebrew/bin/chromedriver\"\n",
    "# op = webdriver.ChromeOptions()\n",
    "# op.add_argument('--headless')\n",
    "# urls = [\n",
    "#     'https://www.bmonotes.com/Type/PPNs#active', \n",
    "#     'https://www.bmonotes.com/Type/Fixed-Income-Notes#active', \n",
    "#     'https://www.bmonotes.com/Type/NPPNs#active'\n",
    "# ]\n",
    "# all_bmo_active_products = pd.DataFrame()\n",
    "# for url in urls:\n",
    "#     print(url)\n",
    "#     # Get first page\n",
    "#     driver = webdriver.Chrome(chrome_path, options=op)\n",
    "#     page = driver.get(url)\n",
    "#     time.sleep(2)\n",
    "#     bmo_act_dict[0] = pd.read_html(driver.page_source)[1]\n",
    "#     # Get remaining pages\n",
    "#     flag = True\n",
    "#     num = 1\n",
    "#     while flag:\n",
    "#         if 'disabled' in driver.find_element_by_id(\"DataTables_Table_1_next\").get_attribute('class'):\n",
    "#             flag = 0\n",
    "#         else:\n",
    "#             driver.find_element_by_id(\"DataTables_Table_1_next\").click()\n",
    "#             time.sleep(2)\n",
    "#             bmo_act_dict[num] = pd.read_html(driver.page_source)[1]\n",
    "#             num += 1\n",
    "#     driver.close()\n",
    "#     # Combine the dataframes\n",
    "#     bmo_active_products = pd.concat([bmo_act_dict[k] for k in bmo_act_dict.keys()], ignore_index=True)\n",
    "#     all_bmo_active_products = pd.concat([all_bmo_active_products, bmo_active_products], ignore_index=True)\n",
    "# # Remove junk\n",
    "# all_bmo_active_products = all_bmo_active_products[(all_bmo_active_products['JHN Code / Cusip'].isna()==False) & (all_bmo_active_products['JHN Code / Cusip']!='Loading...')]\n",
    "# # Create pdw cusip for comparison\n",
    "# listy = []\n",
    "# for i in all_bmo_active_products['JHN Code / Cusip']:\n",
    "#     if 'JHN' in str(i):\n",
    "#         if len(str(i)) == 7:\n",
    "#             listy.append('CA' + str(i))\n",
    "#         elif len(str(i)) == 8:\n",
    "#             listy.append('C' + str(i))\n",
    "#         elif len(str(i)) == 6:\n",
    "#             listy.append('CAA' + str(i))\n",
    "#         else:\n",
    "#             listy.append('Error')\n",
    "#     else:\n",
    "#         if len(str(i)) == 9:\n",
    "#             listy.append(str(i))\n",
    "#         else:\n",
    "#             listy.append('Error')\n",
    "# all_bmo_active_products['pdwCusip'] = listy\n",
    "# # Filter out any products already present in pdw\n",
    "# new_bmo_active_products = all_bmo_active_products[~all_bmo_active_products['JHN Code / Cusip'].isin(cusips) | \n",
    "#                                               all_bmo_active_products['JHN Code / Cusip'].isin(isins)]"
   ]
  },
  {
   "cell_type": "markdown",
   "id": "295205c0",
   "metadata": {},
   "source": [
    "# Testing NBCSS"
   ]
  },
  {
   "cell_type": "code",
   "execution_count": 6,
   "id": "d33fc92d",
   "metadata": {},
   "outputs": [],
   "source": [
    "# # Setup for nbc_ss\n",
    "# nbc_ss_act_dict = {}\n",
    "# chrome_path = r\"/opt/homebrew/bin/chromedriver\"\n",
    "# op = webdriver.ChromeOptions()\n",
    "# op.add_argument('--headless')\n",
    "# driver = webdriver.Chrome(chrome_path, options=op)\n",
    "# url = 'https://www.nbcstructuredsolutions.ca/listeProduits.aspx?mode=previous'\n",
    "# # Get first page\n",
    "# page = driver.get(url)\n",
    "# time.sleep(2)\n",
    "# nbc_ss_act_dict[0] = pd.read_html(driver.page_source)[0]\n",
    "# nbc_ss_act_dict[0]['urls'] = [driver.find_element_by_xpath('//*[@id=\"ctl00_cphMain_lvProducts_ctrl{}_lnkProduit\"]'.format(i)).get_attribute('href') for i in range(len(nbc_ss_act_dict[0]))]\n",
    "# # Get remaining 4 pages\n",
    "# for num in range(2, 6):\n",
    "#     driver.find_element_by_xpath('//*[@id=\"ctl00_cphMain_dpProductsHaut\"]/a[{}]'.format(str(num))).click()\n",
    "#     time.sleep(2)\n",
    "#     nbc_ss_act_dict[num] = pd.read_html(driver.page_source)[0]\n",
    "#     nbc_ss_act_dict[num]['urls'] = [driver.find_element_by_xpath('//*[@id=\"ctl00_cphMain_lvProducts_ctrl{}_lnkProduit\"]'.format(i)).get_attribute('href') for i in range(len(nbc_ss_act_dict[num]))]\n",
    "# driver.close()\n",
    "# # Combine the dataframes\n",
    "# nbc_ss_active_products = pd.concat([nbc_ss_act_dict[k] for k in nbc_ss_act_dict.keys()], ignore_index=True)\n"
   ]
  },
  {
   "cell_type": "code",
   "execution_count": 7,
   "id": "1437e61d",
   "metadata": {},
   "outputs": [],
   "source": [
    "# nbc_ss_active_products"
   ]
  },
  {
   "cell_type": "markdown",
   "id": "10ecdb35",
   "metadata": {},
   "source": [
    "# Testing rbcnotes"
   ]
  },
  {
   "cell_type": "code",
   "execution_count": 8,
   "id": "f09bfc08",
   "metadata": {},
   "outputs": [],
   "source": [
    "# rbc_act_dict = {}\n",
    "# chrome_path = r\"/opt/homebrew/bin/chromedriver\"\n",
    "# op = webdriver.ChromeOptions()\n",
    "# op.add_argument('--headless')\n",
    "# driver = webdriver.Chrome(chrome_path, options=op)\n",
    "# url = 'https://www.rbcnotes.com/Products'\n",
    "# # Get first page\n",
    "# page = driver.get(url)\n",
    "# time.sleep(2)\n",
    "# rbc_act_dict[0] = pd.read_html(driver.page_source)"
   ]
  },
  {
   "cell_type": "markdown",
   "id": "095944fd",
   "metadata": {},
   "source": [
    "actual_rbc_data = rbc_act_dict[0][1][(rbc_act_dict[0][1][7].isna()==False) & (rbc_act_dict[0][1][7].str.contains('Day')==False)]\n",
    "actual_rbc_data.columns = rbc_act_dict[0][0].columns\n",
    "actual_rbc_data[['Product Name', 'FundSERV Code', 'ADP Code', 'CUSIP', 'End of Day Price', 'Current ETC', 'ETC End Date', 'Issue Date', 'Maturity Date', 'Currency']]"
   ]
  },
  {
   "cell_type": "code",
   "execution_count": 9,
   "id": "d33fc92d",
   "metadata": {},
   "outputs": [],
   "source": [
    "# # Setup for rbc\n",
    "# rbc_act_dict = {}\n",
    "# chrome_path = r\"/opt/homebrew/bin/chromedriver\"\n",
    "# op = webdriver.ChromeOptions()\n",
    "# op.add_argument('--headless')\n",
    "# driver = webdriver.Chrome(chrome_path, options=op)\n",
    "# url = 'https://www.rbcnotes.com/Products'\n",
    "# # Get first page\n",
    "# page = driver.get(url)\n",
    "# time.sleep(2)\n",
    "# temp_table = pd.read_html(driver.page_source)\n",
    "# temp_data = temp_table[1][(temp_table[1][7].isna()==False) & (temp_table[1][7].str.contains('Day')==False)]\n",
    "# temp_data.columns = temp_table[0].columns\n",
    "# rbc_act_dict[0] = temp_data\n",
    "# rbc_act_dict[0]['urls'] = [driver.find_element_by_xpath('//*[@id=\"productGrid\"]/div[2]/div[3]/table/tbody/tr[{}]/td[3]/a'.format(i)).get_attribute('href') \n",
    "#                                 for i in range(1, len(rbc_act_dict[0])*2, 2)]\n",
    "# # Get remaining 4 pages\n",
    "# for num in range(2, 6):\n",
    "#     # Scroll to bottom of page to avoid cookie consent form\n",
    "#     driver.execute_script(\"window.scrollTo(0, document.body.scrollHeight);\")\n",
    "#     driver.find_element_by_xpath('//*[@id=\"productGrid\"]/div[2]/div[4]/a[3]').click()\n",
    "#     time.sleep(2)\n",
    "#     temp_table = pd.read_html(driver.page_source)\n",
    "#     temp_data = temp_table[1][(temp_table[1][7].isna()==False) & (temp_table[1][7].str.contains('Day')==False)]\n",
    "#     temp_data.columns = temp_table[0].columns\n",
    "#     rbc_act_dict[num] = temp_data\n",
    "#     rbc_act_dict[num]['urls'] = [driver.find_element_by_xpath('//*[@id=\"productGrid\"]/div[2]/div[3]/table/tbody/tr[{}]/td[3]/a'.format(i)).get_attribute('href') \n",
    "#                                 for i in range(1, len(rbc_act_dict[0])*2, 2)]\n",
    "# driver.close()\n",
    "# # Combine the dataframes\n",
    "# rbc_active_products = pd.concat([rbc_act_dict[k] for k in rbc_act_dict.keys()], ignore_index=True)\n",
    "# rbc_active_products = rbc_active_products[['Product Name', 'FundSERV Code', 'ADP Code',\n",
    "#        'CUSIP', 'End of Day Price', 'Current ETC', 'ETC End Date',\n",
    "#        'Issue Date', 'Maturity Date', 'Currency', 'urls']]\n"
   ]
  },
  {
   "cell_type": "markdown",
   "id": "d52540f2",
   "metadata": {},
   "source": [
    "# Testing Desjardins"
   ]
  },
  {
   "cell_type": "code",
   "execution_count": 106,
   "id": "a144dcc7",
   "metadata": {},
   "outputs": [],
   "source": [
    "# Setup for Desjardins\n",
    "desj_act_dict = {}\n",
    "chrome_path = r\"/opt/homebrew/bin/chromedriver\"\n",
    "op = webdriver.ChromeOptions()\n",
    "# op.add_argument('--headless')\n",
    "op.add_argument('--window-size=1920,1080')\n",
    "op.add_experimental_option( \"prefs\",{'profile.managed_default_content_settings.javascript': 1})\n",
    "driver = webdriver.Chrome(chrome_path, options=op)\n",
    "url = 'https://www.fondsdesjardins.com/structurednotes/products/index.jsp'\n",
    "# Get non-paginated PPN page\n",
    "page = driver.get(url)\n",
    "time.sleep(2)\n",
    "# driver.execute_script(\"arguments[0].click();\", driver.find_element_by_class_name('en translate-link first hide'))\n",
    "driver.execute_script(\"arguments[0].click();\", driver.find_element_by_xpath('//*[@id=\"splash-page\"]/div/div/div[2]/div[2]/div[3]/button'))\n",
    "time.sleep(20)\n",
    "# print(driver.page_source)\n",
    "html_table = BeautifulSoup(driver.page_source).find('table')\n",
    "ppn_table = pd.read_html(driver.page_source)[0]\n",
    "ppn_table['links'] = [link.get('href') for link in html_table.find_all('a') if '/pdf/' not in link.get('href')]\n",
    "driver.execute_script(\"arguments[0].click();\", driver.find_element_by_link_text('Non-Principal Protected'))\n",
    "time.sleep(2)\n",
    "nppn_table = pd.read_html(driver.page_source)[1]\n",
    "html_table = BeautifulSoup(driver.page_source).find_all('table')[1]\n",
    "nppn_table['links'] = [link.get('href') for link in html_table.find_all('a') if '/pdf/' not in link.get('href')]"
   ]
  },
  {
   "cell_type": "code",
   "execution_count": 107,
   "id": "5bfd9932",
   "metadata": {},
   "outputs": [
    {
     "data": {
      "text/html": [
       "<div>\n",
       "<style scoped>\n",
       "    .dataframe tbody tr th:only-of-type {\n",
       "        vertical-align: middle;\n",
       "    }\n",
       "\n",
       "    .dataframe tbody tr th {\n",
       "        vertical-align: top;\n",
       "    }\n",
       "\n",
       "    .dataframe thead th {\n",
       "        text-align: right;\n",
       "    }\n",
       "</style>\n",
       "<table border=\"1\" class=\"dataframe\">\n",
       "  <thead>\n",
       "    <tr style=\"text-align: right;\">\n",
       "      <th></th>\n",
       "      <th>Name</th>\n",
       "      <th>Code</th>\n",
       "      <th>Type</th>\n",
       "      <th>Reference Portfolio</th>\n",
       "      <th>Term</th>\n",
       "      <th>Issue Date</th>\n",
       "      <th>Days Remaining</th>\n",
       "      <th>Documents (PDF)</th>\n",
       "      <th>links</th>\n",
       "    </tr>\n",
       "  </thead>\n",
       "  <tbody>\n",
       "    <tr>\n",
       "      <th>0</th>\n",
       "      <td>Desjardins Fixed Coupon Notes (Maturity-Monito...</td>\n",
       "      <td>DSN00393</td>\n",
       "      <td>Income</td>\n",
       "      <td>Diversified American Equities</td>\n",
       "      <td>5 years, 11 months, 30 days</td>\n",
       "      <td>09/16/2022</td>\n",
       "      <td>11 days</td>\n",
       "      <td>Client Summary  Pricing Supplement  Prospectus...</td>\n",
       "      <td>/structurednotes/product/fixed-coupon-notes-(m...</td>\n",
       "    </tr>\n",
       "    <tr>\n",
       "      <th>1</th>\n",
       "      <td>Desjardins Fixed Coupon Notes (Maturity-Monito...</td>\n",
       "      <td>DSN00394</td>\n",
       "      <td>Income</td>\n",
       "      <td>Diversified American Equities</td>\n",
       "      <td>5 years, 11 months, 30 days</td>\n",
       "      <td>09/16/2022</td>\n",
       "      <td>11 days</td>\n",
       "      <td>Client Summary  Pricing Supplement  Prospectus...</td>\n",
       "      <td>/structurednotes/product/fixed-coupon-notes-(m...</td>\n",
       "    </tr>\n",
       "    <tr>\n",
       "      <th>2</th>\n",
       "      <td>Desjardins Fixed Coupon Notes (Maturity-Monito...</td>\n",
       "      <td>DSN00392</td>\n",
       "      <td>Income</td>\n",
       "      <td>Diversified American Equities</td>\n",
       "      <td>5 years, 11 months, 30 days</td>\n",
       "      <td>08/26/2022</td>\n",
       "      <td>0 days</td>\n",
       "      <td>Client Summary  Pricing Supplement  Prospectus...</td>\n",
       "      <td>/structurednotes/product/fixed-coupon-notes-(m...</td>\n",
       "    </tr>\n",
       "    <tr>\n",
       "      <th>3</th>\n",
       "      <td>Desjardins Fixed Coupon Notes (Maturity-Monito...</td>\n",
       "      <td>DSN00391</td>\n",
       "      <td>Income</td>\n",
       "      <td>Diversified American Equities</td>\n",
       "      <td>5 years, 11 months, 30 days</td>\n",
       "      <td>08/26/2022</td>\n",
       "      <td>0 days</td>\n",
       "      <td>Client Summary  Pricing Supplement  Prospectus...</td>\n",
       "      <td>/structurednotes/product/fixed-coupon-notes-(m...</td>\n",
       "    </tr>\n",
       "  </tbody>\n",
       "</table>\n",
       "</div>"
      ],
      "text/plain": [
       "                                                Name      Code    Type  \\\n",
       "0  Desjardins Fixed Coupon Notes (Maturity-Monito...  DSN00393  Income   \n",
       "1  Desjardins Fixed Coupon Notes (Maturity-Monito...  DSN00394  Income   \n",
       "2  Desjardins Fixed Coupon Notes (Maturity-Monito...  DSN00392  Income   \n",
       "3  Desjardins Fixed Coupon Notes (Maturity-Monito...  DSN00391  Income   \n",
       "\n",
       "             Reference Portfolio                         Term  Issue Date  \\\n",
       "0  Diversified American Equities  5 years, 11 months, 30 days  09/16/2022   \n",
       "1  Diversified American Equities  5 years, 11 months, 30 days  09/16/2022   \n",
       "2  Diversified American Equities  5 years, 11 months, 30 days  08/26/2022   \n",
       "3  Diversified American Equities  5 years, 11 months, 30 days  08/26/2022   \n",
       "\n",
       "  Days Remaining                                    Documents (PDF)  \\\n",
       "0        11 days  Client Summary  Pricing Supplement  Prospectus...   \n",
       "1        11 days  Client Summary  Pricing Supplement  Prospectus...   \n",
       "2         0 days  Client Summary  Pricing Supplement  Prospectus...   \n",
       "3         0 days  Client Summary  Pricing Supplement  Prospectus...   \n",
       "\n",
       "                                               links  \n",
       "0  /structurednotes/product/fixed-coupon-notes-(m...  \n",
       "1  /structurednotes/product/fixed-coupon-notes-(m...  \n",
       "2  /structurednotes/product/fixed-coupon-notes-(m...  \n",
       "3  /structurednotes/product/fixed-coupon-notes-(m...  "
      ]
     },
     "execution_count": 107,
     "metadata": {},
     "output_type": "execute_result"
    }
   ],
   "source": [
    "nppn_table"
   ]
  },
  {
   "cell_type": "markdown",
   "id": "d52540f2",
   "metadata": {},
   "source": [
    "# Testing Nova Scotia"
   ]
  },
  {
   "cell_type": "code",
   "execution_count": null,
   "id": "a144dcc7",
   "metadata": {},
   "outputs": [],
   "source": [
    "# # Setup for Nova Scotia\n",
    "# nosco_act_dict = {}\n",
    "# chrome_path = r\"/opt/homebrew/bin/chromedriver\"\n",
    "# op = webdriver.ChromeOptions()\n",
    "# op.add_argument('--headless')\n",
    "# driver = webdriver.Chrome(chrome_path, options=op)\n",
    "# url = 'https://www.investorsolutions.gbm.scotiabank.com/ppn-public/home.do'"
   ]
  }
 ],
 "metadata": {
  "kernelspec": {
   "display_name": "Python 3.10.4 ('CleanPIIEnv')",
   "language": "python",
   "name": "python3"
  },
  "language_info": {
   "codemirror_mode": {
    "name": "ipython",
    "version": 3
   },
   "file_extension": ".py",
   "mimetype": "text/x-python",
   "name": "python",
   "nbconvert_exporter": "python",
   "pygments_lexer": "ipython3",
   "version": "3.9.12"
  },
  "vscode": {
   "interpreter": {
    "hash": "0c7d8148c176ef5b11d4f1bac71a58d60eaa0041ef9d58da72b256d052e04696"
   }
  }
 },
 "nbformat": 4,
 "nbformat_minor": 5
}
