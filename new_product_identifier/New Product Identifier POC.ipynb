{
 "cells": [
  {
   "cell_type": "code",
   "execution_count": 1,
   "id": "2cba4961",
   "metadata": {},
   "outputs": [],
   "source": [
    "import keyring\n",
    "import pandas as pd\n",
    "import datetime\n",
    "import time\n",
    "from selenium import webdriver\n",
    "from bs4 import BeautifulSoup\n",
    "from urllib.request import urlopen\n",
    "from pymongo import MongoClient"
   ]
  },
  {
   "cell_type": "code",
   "execution_count": 2,
   "id": "059626ca",
   "metadata": {},
   "outputs": [],
   "source": [
    "# Get dates for query\n",
    "today = datetime.datetime.today()\n",
    "one_week_ago = today - datetime.timedelta(days=7)"
   ]
  },
  {
   "cell_type": "code",
   "execution_count": 3,
   "id": "ea4f5432",
   "metadata": {},
   "outputs": [],
   "source": [
    "# Create connection string\n",
    "user = \"dbadmin\"\n",
    "password = keyring.get_password('docdb_prod_dbadmin', 'dbadmin')\n",
    "host = \"production-documentdb.cluster-cb6kajicuplh.us-east-1.docdb.amazonaws.com\"\n",
    "port = \"27017\"\n",
    "options = \"tls=true&tlsAllowInvalidCertificates=true&replicaSet=rs0&readPreference=secondaryPreferred&retryWrites=false\"\n",
    "cxn_string_template= \"mongodb://{}:{}@{}:{}/?{}\"\n",
    "cxn_string_prod = cxn_string_template.format(user, password, host, port, options)\n"
   ]
  },
  {
   "cell_type": "markdown",
   "id": "4a91df29",
   "metadata": {},
   "source": [
    "# Get past week's new products"
   ]
  },
  {
   "cell_type": "code",
   "execution_count": 4,
   "id": "3812b415",
   "metadata": {},
   "outputs": [],
   "source": [
    "# Get past week's new products\n",
    "client = MongoClient(cxn_string_prod)\n",
    "db = client['product-prod']\n",
    "results_ = list(db.PdwProductCore.find({'createTimestamp': {'$gte': one_week_ago}}, \n",
    "                                       ('productGeneral.cusip', 'productGeneral.isin')))\n",
    "cusips = [i['productGeneral']['cusip'] for i in results_ if 'cusip' in i['productGeneral']]\n",
    "isins = [i['productGeneral']['isin'] for i in results_ if 'isin' in i['productGeneral']]"
   ]
  },
  {
   "cell_type": "markdown",
   "id": "e8a7a22f",
   "metadata": {},
   "source": [
    "# Get BMO products added within first 5 pages"
   ]
  },
  {
   "cell_type": "code",
   "execution_count": 5,
   "id": "33d05200",
   "metadata": {},
   "outputs": [],
   "source": [
    "# # Setup for bmo\n",
    "# bmo_act_dict = {}\n",
    "# chrome_path = r\"/opt/homebrew/bin/chromedriver\"\n",
    "# driver = webdriver.Chrome(chrome_path)\n",
    "# url = 'https://www.bmonotes.com/Type/PPNs#active'\n",
    "# # Get first page\n",
    "# page = driver.get(url)\n",
    "# time.sleep(2)\n",
    "# bmo_act_dict[0] = pd.read_html(driver.page_source)[1]\n",
    "# # Get remaining 4 pages\n",
    "# for num in range(2, 6):\n",
    "#     driver.find_element_by_id(\"DataTables_Table_1_next\").click()\n",
    "#     time.sleep(2)\n",
    "#     bmo_act_dict[num] = pd.read_html(driver.page_source)[1]\n",
    "# driver.close()\n",
    "# # Combine the dataframes\n",
    "# bmo_active_products = pd.concat([bmo_act_dict[k] for k in bmo_act_dict.keys()], ignore_index=True)\n",
    "# # Create pdw cusip for comparison\n",
    "# bmo_active_products['pdwCusip'] = [\n",
    "#     'CA' + i if len(i) == 7 else 'C' + i for i in bmo_active_products['JHN Code / Cusip']\n",
    "# ]\n",
    "# # Filter out any products already present in pdw\n",
    "# new_bmo_active_products = bmo_active_products[~bmo_active_products['JHN Code / Cusip'].isin(cusips) | \n",
    "#                                               bmo_active_products['JHN Code / Cusip'].isin(isins)]"
   ]
  },
  {
   "cell_type": "code",
   "execution_count": null,
   "id": "0f171c3a",
   "metadata": {},
   "outputs": [],
   "source": [
    "\n",
    "https://www.investorsolutions.gbm.scotiabank.com/ppn-public/home.do\n",
    "https://notes.cibc.com/#/previouslyIssued"
   ]
  },
  {
   "cell_type": "markdown",
   "id": "295205c0",
   "metadata": {},
   "source": [
    "# Testing NBCSS"
   ]
  },
  {
   "cell_type": "code",
   "execution_count": 37,
   "id": "d33fc92d",
   "metadata": {},
   "outputs": [
    {
     "name": "stdout",
     "output_type": "stream",
     "text": [
      "[]\n"
     ]
    }
   ],
   "source": [
    "# Setup for nbc_ss\n",
    "nbc_ss_act_dict = {}\n",
    "chrome_path = r\"/opt/homebrew/bin/chromedriver\"\n",
    "op = webdriver.ChromeOptions()\n",
    "op.add_argument('--headless')\n",
    "driver = webdriver.Chrome(chrome_path, options=op)\n",
    "url = 'https://www.nbcstructuredsolutions.ca/listeProduits.aspx?mode=previous'\n",
    "# Get first page\n",
    "page = driver.get(url)\n",
    "time.sleep(2)\n",
    "nbc_ss_act_dict[0] = pd.read_html(driver.page_source)[0]\n",
    "nbc_ss_act_dict[0]['urls'] = [driver.find_element_by_xpath('//*[@id=\"ctl00_cphMain_lvProducts_ctrl{}_lnkProduit\"]'.format(i)).get_attribute('href') for i in range(len(nbc_ss_act_dict[0]))]\n",
    "# Get remaining 4 pages\n",
    "for num in range(2, 6):\n",
    "    driver.find_element_by_xpath('//*[@id=\"ctl00_cphMain_dpProductsHaut\"]/a[{}]'.format(str(num))).click()\n",
    "    time.sleep(2)\n",
    "    nbc_ss_act_dict[num] = pd.read_html(driver.page_source)[0]\n",
    "    nbc_ss_act_dict[num]['urls'] = [driver.find_element_by_xpath('//*[@id=\"ctl00_cphMain_lvProducts_ctrl{}_lnkProduit\"]'.format(i)).get_attribute('href') for i in range(len(nbc_ss_act_dict[num]))]\n",
    "driver.close()\n",
    "# Combine the dataframes\n",
    "nbc_ss_active_products = pd.concat([nbc_ss_act_dict[k] for k in nbc_ss_act_dict.keys()], ignore_index=True)\n"
   ]
  },
  {
   "cell_type": "code",
   "execution_count": 39,
   "id": "1437e61d",
   "metadata": {},
   "outputs": [
    {
     "data": {
      "text/html": [
       "<div>\n",
       "<style scoped>\n",
       "    .dataframe tbody tr th:only-of-type {\n",
       "        vertical-align: middle;\n",
       "    }\n",
       "\n",
       "    .dataframe tbody tr th {\n",
       "        vertical-align: top;\n",
       "    }\n",
       "\n",
       "    .dataframe thead th {\n",
       "        text-align: right;\n",
       "    }\n",
       "</style>\n",
       "<table border=\"1\" class=\"dataframe\">\n",
       "  <thead>\n",
       "    <tr style=\"text-align: right;\">\n",
       "      <th></th>\n",
       "      <th>Name</th>\n",
       "      <th>FundSERV</th>\n",
       "      <th>Type</th>\n",
       "      <th>Term</th>\n",
       "      <th>Price</th>\n",
       "      <th>Issue Date</th>\n",
       "      <th>Maturity Date</th>\n",
       "      <th>urls</th>\n",
       "    </tr>\n",
       "  </thead>\n",
       "  <tbody>\n",
       "    <tr>\n",
       "      <th>0</th>\n",
       "      <td>NBC Auto Callable Canadian Equity Flex GIC, se...</td>\n",
       "      <td>NBC28229</td>\n",
       "      <td>GIC</td>\n",
       "      <td>7 years</td>\n",
       "      <td>NaN</td>\n",
       "      <td>15-Aug-2022</td>\n",
       "      <td>15-Aug-2029</td>\n",
       "      <td>https://www.nbcstructuredsolutions.ca/detailPr...</td>\n",
       "    </tr>\n",
       "    <tr>\n",
       "      <th>1</th>\n",
       "      <td>NBC Auto Callable Contingent Income Note Secur...</td>\n",
       "      <td>NBC25842</td>\n",
       "      <td>NPPN</td>\n",
       "      <td>7 years</td>\n",
       "      <td>NaN</td>\n",
       "      <td>15-Aug-2022</td>\n",
       "      <td>15-Aug-2029</td>\n",
       "      <td>https://www.nbcstructuredsolutions.ca/detailPr...</td>\n",
       "    </tr>\n",
       "    <tr>\n",
       "      <th>2</th>\n",
       "      <td>NBC Auto Callable Contingent Income Note Secur...</td>\n",
       "      <td>NBC25841</td>\n",
       "      <td>NPPN</td>\n",
       "      <td>5 years</td>\n",
       "      <td>NaN</td>\n",
       "      <td>15-Aug-2022</td>\n",
       "      <td>16-Aug-2027</td>\n",
       "      <td>https://www.nbcstructuredsolutions.ca/detailPr...</td>\n",
       "    </tr>\n",
       "    <tr>\n",
       "      <th>3</th>\n",
       "      <td>NBC Auto Callable Contingent Income Note Secur...</td>\n",
       "      <td>NBC25840</td>\n",
       "      <td>NPPN</td>\n",
       "      <td>5 years</td>\n",
       "      <td>NaN</td>\n",
       "      <td>12-Aug-2022</td>\n",
       "      <td>12-Aug-2027</td>\n",
       "      <td>https://www.nbcstructuredsolutions.ca/detailPr...</td>\n",
       "    </tr>\n",
       "    <tr>\n",
       "      <th>4</th>\n",
       "      <td>NBC Auto Callable Note Securities (Maturity-Mo...</td>\n",
       "      <td>NBC24315</td>\n",
       "      <td>NPPN</td>\n",
       "      <td>5 years</td>\n",
       "      <td>NaN</td>\n",
       "      <td>12-Aug-2022</td>\n",
       "      <td>12-Aug-2027</td>\n",
       "      <td>https://www.nbcstructuredsolutions.ca/detailPr...</td>\n",
       "    </tr>\n",
       "    <tr>\n",
       "      <th>...</th>\n",
       "      <td>...</td>\n",
       "      <td>...</td>\n",
       "      <td>...</td>\n",
       "      <td>...</td>\n",
       "      <td>...</td>\n",
       "      <td>...</td>\n",
       "      <td>...</td>\n",
       "      <td>...</td>\n",
       "    </tr>\n",
       "    <tr>\n",
       "      <th>70</th>\n",
       "      <td>NBC Auto Callable Note Securities (Maturity-Mo...</td>\n",
       "      <td>NBC24302</td>\n",
       "      <td>NPPN</td>\n",
       "      <td>5 years</td>\n",
       "      <td>$102.75</td>\n",
       "      <td>13-Jul-2022</td>\n",
       "      <td>13-Jul-2027</td>\n",
       "      <td>https://www.nbcstructuredsolutions.ca/detailPr...</td>\n",
       "    </tr>\n",
       "    <tr>\n",
       "      <th>71</th>\n",
       "      <td>NBC Canadian Equity Flex GIC, series 43F</td>\n",
       "      <td>NBC28207</td>\n",
       "      <td>GIC</td>\n",
       "      <td>4.5 years</td>\n",
       "      <td>$100.10</td>\n",
       "      <td>13-Jul-2022</td>\n",
       "      <td>13-Jan-2027</td>\n",
       "      <td>https://www.nbcstructuredsolutions.ca/detailPr...</td>\n",
       "    </tr>\n",
       "    <tr>\n",
       "      <th>72</th>\n",
       "      <td>NBC Auto Callable Contingent Income Note Secur...</td>\n",
       "      <td>NBC25804</td>\n",
       "      <td>NPPN</td>\n",
       "      <td>7 years</td>\n",
       "      <td>$100.84</td>\n",
       "      <td>13-Jul-2022</td>\n",
       "      <td>13-Jul-2029</td>\n",
       "      <td>https://www.nbcstructuredsolutions.ca/detailPr...</td>\n",
       "    </tr>\n",
       "    <tr>\n",
       "      <th>73</th>\n",
       "      <td>NBC Auto Callable Note Securities (Maturity-Mo...</td>\n",
       "      <td>NBC24300</td>\n",
       "      <td>NPPN</td>\n",
       "      <td>7 years</td>\n",
       "      <td>$101.12</td>\n",
       "      <td>12-Jul-2022</td>\n",
       "      <td>12-Jul-2029</td>\n",
       "      <td>https://www.nbcstructuredsolutions.ca/detailPr...</td>\n",
       "    </tr>\n",
       "    <tr>\n",
       "      <th>74</th>\n",
       "      <td>NBC Auto Callable Note Securities (Maturity-Mo...</td>\n",
       "      <td>NBC24301</td>\n",
       "      <td>NPPN</td>\n",
       "      <td>5 years</td>\n",
       "      <td>$102.13</td>\n",
       "      <td>12-Jul-2022</td>\n",
       "      <td>12-Jul-2027</td>\n",
       "      <td>https://www.nbcstructuredsolutions.ca/detailPr...</td>\n",
       "    </tr>\n",
       "  </tbody>\n",
       "</table>\n",
       "<p>75 rows × 8 columns</p>\n",
       "</div>"
      ],
      "text/plain": [
       "                                                 Name  FundSERV  Type  \\\n",
       "0   NBC Auto Callable Canadian Equity Flex GIC, se...  NBC28229   GIC   \n",
       "1   NBC Auto Callable Contingent Income Note Secur...  NBC25842  NPPN   \n",
       "2   NBC Auto Callable Contingent Income Note Secur...  NBC25841  NPPN   \n",
       "3   NBC Auto Callable Contingent Income Note Secur...  NBC25840  NPPN   \n",
       "4   NBC Auto Callable Note Securities (Maturity-Mo...  NBC24315  NPPN   \n",
       "..                                                ...       ...   ...   \n",
       "70  NBC Auto Callable Note Securities (Maturity-Mo...  NBC24302  NPPN   \n",
       "71           NBC Canadian Equity Flex GIC, series 43F  NBC28207   GIC   \n",
       "72  NBC Auto Callable Contingent Income Note Secur...  NBC25804  NPPN   \n",
       "73  NBC Auto Callable Note Securities (Maturity-Mo...  NBC24300  NPPN   \n",
       "74  NBC Auto Callable Note Securities (Maturity-Mo...  NBC24301  NPPN   \n",
       "\n",
       "         Term    Price   Issue Date Maturity Date  \\\n",
       "0     7 years      NaN  15-Aug-2022   15-Aug-2029   \n",
       "1     7 years      NaN  15-Aug-2022   15-Aug-2029   \n",
       "2     5 years      NaN  15-Aug-2022   16-Aug-2027   \n",
       "3     5 years      NaN  12-Aug-2022   12-Aug-2027   \n",
       "4     5 years      NaN  12-Aug-2022   12-Aug-2027   \n",
       "..        ...      ...          ...           ...   \n",
       "70    5 years  $102.75  13-Jul-2022   13-Jul-2027   \n",
       "71  4.5 years  $100.10  13-Jul-2022   13-Jan-2027   \n",
       "72    7 years  $100.84  13-Jul-2022   13-Jul-2029   \n",
       "73    7 years  $101.12  12-Jul-2022   12-Jul-2029   \n",
       "74    5 years  $102.13  12-Jul-2022   12-Jul-2027   \n",
       "\n",
       "                                                 urls  \n",
       "0   https://www.nbcstructuredsolutions.ca/detailPr...  \n",
       "1   https://www.nbcstructuredsolutions.ca/detailPr...  \n",
       "2   https://www.nbcstructuredsolutions.ca/detailPr...  \n",
       "3   https://www.nbcstructuredsolutions.ca/detailPr...  \n",
       "4   https://www.nbcstructuredsolutions.ca/detailPr...  \n",
       "..                                                ...  \n",
       "70  https://www.nbcstructuredsolutions.ca/detailPr...  \n",
       "71  https://www.nbcstructuredsolutions.ca/detailPr...  \n",
       "72  https://www.nbcstructuredsolutions.ca/detailPr...  \n",
       "73  https://www.nbcstructuredsolutions.ca/detailPr...  \n",
       "74  https://www.nbcstructuredsolutions.ca/detailPr...  \n",
       "\n",
       "[75 rows x 8 columns]"
      ]
     },
     "execution_count": 39,
     "metadata": {},
     "output_type": "execute_result"
    }
   ],
   "source": [
    "nbc_ss_active_products"
   ]
  },
  {
   "cell_type": "markdown",
   "id": "10ecdb35",
   "metadata": {},
   "source": [
    "# Testing rbcnotes"
   ]
  },
  {
   "cell_type": "code",
   "execution_count": null,
   "id": "6ed0ff00",
   "metadata": {},
   "outputs": [],
   "source": [
    "//*[@id=\"productGrid\"]/div[2]/div[3]/table/tbody/tr[3]/td[3]/a\n",
    "//*[@id=\"productGrid\"]/div[2]/div[3]/table/tbody/tr[5]/td[3]/a"
   ]
  },
  {
   "cell_type": "code",
   "execution_count": 41,
   "id": "d33fc92d",
   "metadata": {},
   "outputs": [
    {
     "ename": "ElementClickInterceptedException",
     "evalue": "Message: element click intercepted: Element <span class=\"k-icon k-i-arrow-e\"></span> is not clickable at point (188, 592). Other element would receive the click: <div role=\"dialog\" aria-live=\"polite\" aria-label=\"cookieconsent\" aria-describedby=\"cookieconsent:desc\" class=\"cc-window cc-banner cc-type-opt-out cc-theme-block cc-bottom cc-color-override--364807516 \" style=\"\">...</div>\n  (Session info: headless chrome=104.0.5112.79)\n",
     "output_type": "error",
     "traceback": [
      "\u001b[0;31m---------------------------------------------------------------------------\u001b[0m",
      "\u001b[0;31mElementClickInterceptedException\u001b[0m          Traceback (most recent call last)",
      "\u001b[1;32m/Users/cyoung/Documents/GitHub/bmo-scraper/new_product_identifier/New Product Identifier POC.ipynb Cell 14\u001b[0m in \u001b[0;36m<cell line: 15>\u001b[0;34m()\u001b[0m\n\u001b[1;32m     <a href='vscode-notebook-cell:/Users/cyoung/Documents/GitHub/bmo-scraper/new_product_identifier/New%20Product%20Identifier%20POC.ipynb#X32sZmlsZQ%3D%3D?line=13'>14</a>\u001b[0m \u001b[39m# Get remaining 4 pages\u001b[39;00m\n\u001b[1;32m     <a href='vscode-notebook-cell:/Users/cyoung/Documents/GitHub/bmo-scraper/new_product_identifier/New%20Product%20Identifier%20POC.ipynb#X32sZmlsZQ%3D%3D?line=14'>15</a>\u001b[0m \u001b[39mfor\u001b[39;00m num \u001b[39min\u001b[39;00m \u001b[39mrange\u001b[39m(\u001b[39m2\u001b[39m, \u001b[39m6\u001b[39m):\n\u001b[0;32m---> <a href='vscode-notebook-cell:/Users/cyoung/Documents/GitHub/bmo-scraper/new_product_identifier/New%20Product%20Identifier%20POC.ipynb#X32sZmlsZQ%3D%3D?line=15'>16</a>\u001b[0m     driver\u001b[39m.\u001b[39;49mfind_element_by_xpath(\u001b[39m'\u001b[39;49m\u001b[39m//*[@id=\u001b[39;49m\u001b[39m\"\u001b[39;49m\u001b[39mproductGrid\u001b[39;49m\u001b[39m\"\u001b[39;49m\u001b[39m]/div[2]/div[4]/a[3]/span\u001b[39;49m\u001b[39m'\u001b[39;49m)\u001b[39m.\u001b[39;49mclick()\n\u001b[1;32m     <a href='vscode-notebook-cell:/Users/cyoung/Documents/GitHub/bmo-scraper/new_product_identifier/New%20Product%20Identifier%20POC.ipynb#X32sZmlsZQ%3D%3D?line=16'>17</a>\u001b[0m     time\u001b[39m.\u001b[39msleep(\u001b[39m2\u001b[39m)\n\u001b[1;32m     <a href='vscode-notebook-cell:/Users/cyoung/Documents/GitHub/bmo-scraper/new_product_identifier/New%20Product%20Identifier%20POC.ipynb#X32sZmlsZQ%3D%3D?line=17'>18</a>\u001b[0m     rbc_act_dict[num] \u001b[39m=\u001b[39m pd\u001b[39m.\u001b[39mread_html(driver\u001b[39m.\u001b[39mpage_source)[\u001b[39m0\u001b[39m]\n",
      "File \u001b[0;32m~/opt/anaconda3/envs/cleanPIIEnv/lib/python3.10/site-packages/selenium/webdriver/remote/webelement.py:80\u001b[0m, in \u001b[0;36mWebElement.click\u001b[0;34m(self)\u001b[0m\n\u001b[1;32m     78\u001b[0m \u001b[39mdef\u001b[39;00m \u001b[39mclick\u001b[39m(\u001b[39mself\u001b[39m):\n\u001b[1;32m     79\u001b[0m     \u001b[39m\"\"\"Clicks the element.\"\"\"\u001b[39;00m\n\u001b[0;32m---> 80\u001b[0m     \u001b[39mself\u001b[39;49m\u001b[39m.\u001b[39;49m_execute(Command\u001b[39m.\u001b[39;49mCLICK_ELEMENT)\n",
      "File \u001b[0;32m~/opt/anaconda3/envs/cleanPIIEnv/lib/python3.10/site-packages/selenium/webdriver/remote/webelement.py:633\u001b[0m, in \u001b[0;36mWebElement._execute\u001b[0;34m(self, command, params)\u001b[0m\n\u001b[1;32m    631\u001b[0m     params \u001b[39m=\u001b[39m {}\n\u001b[1;32m    632\u001b[0m params[\u001b[39m'\u001b[39m\u001b[39mid\u001b[39m\u001b[39m'\u001b[39m] \u001b[39m=\u001b[39m \u001b[39mself\u001b[39m\u001b[39m.\u001b[39m_id\n\u001b[0;32m--> 633\u001b[0m \u001b[39mreturn\u001b[39;00m \u001b[39mself\u001b[39;49m\u001b[39m.\u001b[39;49m_parent\u001b[39m.\u001b[39;49mexecute(command, params)\n",
      "File \u001b[0;32m~/opt/anaconda3/envs/cleanPIIEnv/lib/python3.10/site-packages/selenium/webdriver/remote/webdriver.py:321\u001b[0m, in \u001b[0;36mWebDriver.execute\u001b[0;34m(self, driver_command, params)\u001b[0m\n\u001b[1;32m    319\u001b[0m response \u001b[39m=\u001b[39m \u001b[39mself\u001b[39m\u001b[39m.\u001b[39mcommand_executor\u001b[39m.\u001b[39mexecute(driver_command, params)\n\u001b[1;32m    320\u001b[0m \u001b[39mif\u001b[39;00m response:\n\u001b[0;32m--> 321\u001b[0m     \u001b[39mself\u001b[39;49m\u001b[39m.\u001b[39;49merror_handler\u001b[39m.\u001b[39;49mcheck_response(response)\n\u001b[1;32m    322\u001b[0m     response[\u001b[39m'\u001b[39m\u001b[39mvalue\u001b[39m\u001b[39m'\u001b[39m] \u001b[39m=\u001b[39m \u001b[39mself\u001b[39m\u001b[39m.\u001b[39m_unwrap_value(\n\u001b[1;32m    323\u001b[0m         response\u001b[39m.\u001b[39mget(\u001b[39m'\u001b[39m\u001b[39mvalue\u001b[39m\u001b[39m'\u001b[39m, \u001b[39mNone\u001b[39;00m))\n\u001b[1;32m    324\u001b[0m     \u001b[39mreturn\u001b[39;00m response\n",
      "File \u001b[0;32m~/opt/anaconda3/envs/cleanPIIEnv/lib/python3.10/site-packages/selenium/webdriver/remote/errorhandler.py:242\u001b[0m, in \u001b[0;36mErrorHandler.check_response\u001b[0;34m(self, response)\u001b[0m\n\u001b[1;32m    240\u001b[0m         alert_text \u001b[39m=\u001b[39m value[\u001b[39m'\u001b[39m\u001b[39malert\u001b[39m\u001b[39m'\u001b[39m]\u001b[39m.\u001b[39mget(\u001b[39m'\u001b[39m\u001b[39mtext\u001b[39m\u001b[39m'\u001b[39m)\n\u001b[1;32m    241\u001b[0m     \u001b[39mraise\u001b[39;00m exception_class(message, screen, stacktrace, alert_text)\n\u001b[0;32m--> 242\u001b[0m \u001b[39mraise\u001b[39;00m exception_class(message, screen, stacktrace)\n",
      "\u001b[0;31mElementClickInterceptedException\u001b[0m: Message: element click intercepted: Element <span class=\"k-icon k-i-arrow-e\"></span> is not clickable at point (188, 592). Other element would receive the click: <div role=\"dialog\" aria-live=\"polite\" aria-label=\"cookieconsent\" aria-describedby=\"cookieconsent:desc\" class=\"cc-window cc-banner cc-type-opt-out cc-theme-block cc-bottom cc-color-override--364807516 \" style=\"\">...</div>\n  (Session info: headless chrome=104.0.5112.79)\n"
     ]
    }
   ],
   "source": [
    "# Setup for nbc_ss\n",
    "rbc_act_dict = {}\n",
    "chrome_path = r\"/opt/homebrew/bin/chromedriver\"\n",
    "op = webdriver.ChromeOptions()\n",
    "op.add_argument('--headless')\n",
    "driver = webdriver.Chrome(chrome_path, options=op)\n",
    "url = 'https://www.rbcnotes.com/Products'\n",
    "# Get first page\n",
    "page = driver.get(url)\n",
    "time.sleep(2)\n",
    "rbc_act_dict[0] = pd.read_html(driver.page_source)[0]\n",
    "rbc_act_dict[0]['urls'] = [driver.find_element_by_xpath('//*[@id=\"productGrid\"]/div[2]/div[3]/table/tbody/tr[1]/td[3]/a'.format(i)).get_attribute('href') \n",
    "                                for i in range(1, len(rbc_act_dict[0])-1, 2)]\n",
    "# Get remaining 4 pages\n",
    "for num in range(2, 6):\n",
    "    driver.execute_script(\"window.scrollTo(0, document.body.scrollHeight);\")\n",
    "    driver.find_element_by_xpath('//*[@id=\"productGrid\"]/div[2]/div[4]/a[3]').click()\n",
    "    time.sleep(2)\n",
    "    rbc_act_dict[num] = pd.read_html(driver.page_source)[0]\n",
    "    rbc_act_dict[num]['urls'] = [driver.find_element_by_xpath('//*[@id=\"productGrid\"]/div[2]/div[3]/table/tbody/tr[{}]/td[3]/a'.format(i)).get_attribute('href') \n",
    "                                    for i in range(1, len(rbc_act_dict[0])-1, 2)]\n",
    "driver.close()\n",
    "# Combine the dataframes\n",
    "rbc_active_products = pd.concat([rbc_act_dict[k] for k in rbc_act_dict.keys()], ignore_index=True)\n"
   ]
  },
  {
   "cell_type": "markdown",
   "id": "04f09821",
   "metadata": {},
   "source": []
  }
 ],
 "metadata": {
  "kernelspec": {
   "display_name": "Python 3.10.4 ('cleanPIIEnv')",
   "language": "python",
   "name": "python3"
  },
  "language_info": {
   "codemirror_mode": {
    "name": "ipython",
    "version": 3
   },
   "file_extension": ".py",
   "mimetype": "text/x-python",
   "name": "python",
   "nbconvert_exporter": "python",
   "pygments_lexer": "ipython3",
   "version": "3.10.4"
  },
  "vscode": {
   "interpreter": {
    "hash": "b3384e59cf3c408f2a49c851df43ef5e043370f12a9eafe1da014f5ee8d9e029"
   }
  }
 },
 "nbformat": 4,
 "nbformat_minor": 5
}
